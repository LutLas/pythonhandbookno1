{
 "cells": [
  {
   "cell_type": "code",
   "execution_count": 10,
   "metadata": {},
   "outputs": [
    {
     "data": {
      "text/plain": [
       "['P', 'C', 'N', 'J']"
      ]
     },
     "execution_count": 10,
     "metadata": {},
     "output_type": "execute_result"
    }
   ],
   "source": [
    "import re\n",
    "re.findall(r\"[A-Z]\", \"Python+C+NmJava\")"
   ]
  },
  {
   "cell_type": "code",
   "execution_count": 4,
   "metadata": {},
   "outputs": [
    {
     "name": "stdout",
     "output_type": "stream",
     "text": [
      "{'www.a.com': 2, 'www.b.com': 1, 'www.c.com': 0}\n"
     ]
    }
   ],
   "source": [
    "x = ['www.a.com','www.b.com','www.c.com']\n",
    "z = ['don@a.com', 'diz@a.com', 'can@b.com', 'jef@d.com']\n",
    "result = {}\n",
    "\n",
    "for i in x:\n",
    "    result[i] = 0\n",
    "    tempD = i.split('.')[1]+\".\"+i.split('.')[2]\n",
    "    for d in z:\n",
    "        if tempD in d:\n",
    "            result[i] += 1 \n",
    "print(result)\n"
   ]
  },
  {
   "cell_type": "code",
   "execution_count": 10,
   "metadata": {},
   "outputs": [
    {
     "name": "stdout",
     "output_type": "stream",
     "text": [
      "['--..', '.--.', '..--']\n"
     ]
    }
   ],
   "source": [
    "input = \"....\"\n",
    "#output = [\"--..\",\".--.\",\"..--\"]\n",
    "result = []\n",
    "\n",
    "for i, c in enumerate(input):\n",
    "    sList = list(input)\n",
    "    nX = i + 1\n",
    "    try:\n",
    "        sList[i], sList[nX] = \"-\", \"-\"\n",
    "        #print(sList)\n",
    "        temStr = \"\".join(sList)\n",
    "        result.append(temStr)\n",
    "    except IndexError as e:\n",
    "        e\n",
    "print(result)"
   ]
  },
  {
   "cell_type": "code",
   "execution_count": 21,
   "metadata": {},
   "outputs": [
    {
     "name": "stdout",
     "output_type": "stream",
     "text": [
      "Input: \"0123456789\" Search Elements: \"210\"\n",
      "\n",
      "Num At Index: 2 Is: 2, Current Index: 0, Difference: 2 \n",
      "Absolute Value Is: 2 \n",
      "\n",
      "Num At Index: 1 Is: 1, Current Index: 2, Difference: -1 \n",
      "Absolute Value Is: 1 \n",
      "\n",
      "Num At Index: 0 Is: 0, Current Index: 1, Difference: -1 \n",
      "Absolute Value Is: 1 \n",
      "\n",
      "[2, 1, 1]\n",
      "4\n",
      "\n",
      "Input: \"8459761203\" Search Elements: \"5439\"\n",
      "\n",
      "Num At Index: 5 Is: 2, Current Index: 0, Difference: 2 \n",
      "Absolute Value Is: 2 \n",
      "\n",
      "Num At Index: 4 Is: 1, Current Index: 2, Difference: -1 \n",
      "Absolute Value Is: 1 \n",
      "\n",
      "Num At Index: 3 Is: 9, Current Index: 1, Difference: 8 \n",
      "Absolute Value Is: 8 \n",
      "\n",
      "Num At Index: 9 Is: 3, Current Index: 9, Difference: -6 \n",
      "Absolute Value Is: 6 \n",
      "\n",
      "[2, 1, 8, 6]\n",
      "17\n",
      "\n"
     ]
    }
   ],
   "source": [
    "def solution(digits: str, num: str) -> int:\n",
    "    print(\"Input: \\\"\" + digits +\"\\\" Search Elements: \\\"\"+num+\"\\\"\",end=\"\\n\\n\")\n",
    "    nums = []\n",
    "    currentIndex = 0\n",
    "    for s in num:\n",
    "        sIndex = digits.index(s)\n",
    "        print(\"Num At Index: \"+s+\" Is: \"+str(sIndex)+\", Current Index: \"+str(currentIndex)+\", Difference: \"+str(sIndex-currentIndex), end=\" \\n\")\n",
    "        print(\"Absolute Value Is: \"+str(abs(currentIndex-sIndex)), end=\" \\n\\n\")\n",
    "        nums.append(abs(currentIndex-sIndex))\n",
    "        currentIndex = sIndex\n",
    "    print(nums)\n",
    "    return sum(nums)\n",
    "\n",
    "print(solution(digits=\"0123456789\", num=\"210\"),end=\"\\n\\n\\n\")#Expected: 4\n",
    "print(solution(digits=\"8459761203\", num=\"5439\"),end=\"\\n\\n\\n\")#Expected: 17 "
   ]
  },
  {
   "cell_type": "code",
   "execution_count": 30,
   "metadata": {},
   "outputs": [
    {
     "data": {
      "text/plain": [
       "5.0"
      ]
     },
     "execution_count": 30,
     "metadata": {},
     "output_type": "execute_result"
    }
   ],
   "source": [
    "from typing import List\n",
    "class Solution:\n",
    "    def findMedianSortedArrays(self, nums1: List[int], nums2: List[int]) -> float:\n",
    "        nums = nums1 + nums2\n",
    "        nums.sort()\n",
    "        numsMid = len(nums) // 2\n",
    "        #print(complex(numsMid))\n",
    "        if len(nums) % 2 == 0:\n",
    "            return (nums[numsMid-1] + nums[numsMid]) / 2\n",
    "        else:\n",
    "            return nums[numsMid]\n",
    "\n",
    "Solution.findMedianSortedArrays(self=Solution, nums1=[2,3,6], nums2=[4,8,9])"
   ]
  },
  {
   "cell_type": "code",
   "execution_count": null,
   "metadata": {},
   "outputs": [],
   "source": [
    "def solution(a:str, b:str) -> int:\n",
    "    inP = b\n",
    "    outP = \"\"\n",
    "    inPLen = -1\n",
    "    while len(inP) != inPLen:\n",
    "        inPLen = len(inP)\n",
    "        if inP in a:\n",
    "            outP += b\n",
    "            inP += b\n",
    "    print(outP)\n",
    "    return outP.count(b)\n",
    "\n",
    "#a=\"popokpopopop\", b=\"po\" output:3\n",
    "print(solution(a=\"popokpopopop\", b=\"po\"))"
   ]
  },
  {
   "cell_type": "code",
   "execution_count": null,
   "metadata": {},
   "outputs": [],
   "source": [
    "def mostAlphabet(sample:str) -> str:\n",
    "    cCount = 0\n",
    "    outP = \"\"\n",
    "    for s in sample:\n",
    "       if not s.isdigit():\n",
    "            tempCCount = sample.count(s)\n",
    "            if tempCCount > cCount:\n",
    "                cCount = tempCCount\n",
    "                outP = s\n",
    "    return outP\n",
    "\n",
    "#output:'d'\n",
    "print(mostAlphabet(sample=\"abcddezzAzfda1111333333333333\"))"
   ]
  },
  {
   "cell_type": "code",
   "execution_count": null,
   "metadata": {},
   "outputs": [],
   "source": [
    "def reverseAndSortString(sample:str) -> str:\n",
    "    inP = sample.split(\" \")\n",
    "    inPSort = []\n",
    "    outP = \"\"\n",
    "    for s in inP:\n",
    "        sLast = len(s)-1\n",
    "        inPSort.append(s[sLast]+s[:sLast])\n",
    "    inPSort.sort()\n",
    "    for s in inPSort:\n",
    "        outP += s[1:] + \" \"\n",
    "    outP = outP.strip()\n",
    "    #print(inPSort)\n",
    "    return outP\n",
    "\n",
    "#output:\"green red gold black blue\"\n",
    "print(reverseAndSortString(sample=\"red2 blue5 black4 green1 gold3\"))"
   ]
  },
  {
   "cell_type": "code",
   "execution_count": null,
   "metadata": {},
   "outputs": [],
   "source": [
    "def decodeMsg(k:list[int], x:int) -> list[int]:\n",
    "    indexer = x-1\n",
    "    fullInp = k[indexer:] + k[:indexer] + k[indexer:]\n",
    "    outP = []\n",
    "    print(fullInp)\n",
    "    for i, _ in enumerate(k):\n",
    "        outP.append(fullInp[i] + fullInp[i+1])\n",
    "    return outP\n",
    "print(decodeMsg(k=[1,2,3,4], x=2))"
   ]
  },
  {
   "cell_type": "code",
   "execution_count": 13,
   "metadata": {},
   "outputs": [
    {
     "name": "stdout",
     "output_type": "stream",
     "text": [
      "[0, 6, 15]\n"
     ]
    }
   ],
   "source": [
    "class Solution:\n",
    "    def findSubstring(self, word:str, words:list[str]) -> list[int]:\n",
    "        outP = []\n",
    "        for w in self.permute(self, words):\n",
    "            for i in range(len(word)-len(w)):\n",
    "                if word[i:(i+len(w))] == w:\n",
    "                    if i not in outP:\n",
    "                        outP.append(i)\n",
    "        outP.sort()\n",
    "        return outP\n",
    "\n",
    "    def permute(self, words:list[str]) -> list[str]:\n",
    "        outP = []\n",
    "        if len(words) <= 0:\n",
    "            return outP\n",
    "        elif len(words) == 1:\n",
    "            outP.append(words[0])\n",
    "        else:\n",
    "            for word in words:\n",
    "                trailings = [wd for wd in words if words.index(wd) != words.index(word)]\n",
    "                for trail in self.permute(self, trailings):\n",
    "                    tempWord = word + trail\n",
    "                    if tempWord not in outP:\n",
    "                        outP.append(tempWord)\n",
    "        #outP.Sort()\n",
    "        return outP\n",
    "\n",
    "sample = \"barfoofoobarthefoobarman\"\n",
    "words = [\"foo\", \"bar\"]\n",
    "print(Solution.findSubstring(self=Solution, word=sample, words=words))"
   ]
  },
  {
   "cell_type": "code",
   "execution_count": 29,
   "metadata": {},
   "outputs": [
    {
     "name": "stdout",
     "output_type": "stream",
     "text": [
      "51342\n"
     ]
    }
   ],
   "source": [
    "class Solution:\n",
    "    def nPermute(self, n:int, k:int) -> str:\n",
    "        inP = \"\"\n",
    "        for i in range(1, (n+1)):\n",
    "            inP += str(i)\n",
    "        #print(self.findPermute(self, inP))\n",
    "        return self.findPermute(self, inP)[k-1]\n",
    "    \n",
    "    def findPermute(self, s:str) -> list[str]:\n",
    "        outP = []\n",
    "        if len(s) <= 1:\n",
    "            outP.append(s)\n",
    "        else:\n",
    "            for w in s:\n",
    "                trails = [wd for wd in s if s.index(wd) != s.index(w)]\n",
    "                strTrails = \"\".join(trails)\n",
    "                for tr in self.findPermute(self, strTrails):\n",
    "                    tempW = w + tr\n",
    "                    if tempW not in outP:\n",
    "                        outP.append(tempW)\n",
    "        return outP\n",
    "\n",
    "print(Solution.nPermute(self=Solution, n=5, k=100))"
   ]
  },
  {
   "cell_type": "code",
   "execution_count": 32,
   "metadata": {},
   "outputs": [
    {
     "name": "stdout",
     "output_type": "stream",
     "text": [
      "4\n"
     ]
    }
   ],
   "source": [
    "def firstMissingPositive(nums:list[int]) -> int:\n",
    "    n = 1\n",
    "    nums.sort()\n",
    "    for i in nums:\n",
    "        if i == n:\n",
    "            n += 1\n",
    "    return n\n",
    "\n",
    "numbers = [ 7, 3, 2, 0, 1, 10, 5, 6, 9, 8, 11, 20, 12 ]\n",
    "print(firstMissingPositive(nums=numbers))"
   ]
  },
  {
   "cell_type": "code",
   "execution_count": 46,
   "metadata": {},
   "outputs": [
    {
     "name": "stdout",
     "output_type": "stream",
     "text": [
      "3\n"
     ]
    }
   ],
   "source": [
    "def calculateScore(points:str) -> int:\n",
    "    inP = points.split(\" \")\n",
    "    outP = []\n",
    "    for n in inP:\n",
    "        if n.isdigit():\n",
    "            outP.append(int(n))\n",
    "        else:\n",
    "            outPLen = len(outP)\n",
    "            if n == \"+\":\n",
    "                outP.append(outP[outPLen-1] + outPLen[outPLen-2])\n",
    "            elif n.lower() == \"d\":\n",
    "                outP.append(outP[outPLen-1]*2)\n",
    "            elif n.lower() == \"c\":\n",
    "                outP.remove(outP[outPLen-1])\n",
    "    return int(sum(outP))\n",
    "\n",
    "score = \"0 D 1 D\"\n",
    "print(calculateScore(points=score))"
   ]
  },
  {
   "cell_type": "code",
   "execution_count": 50,
   "metadata": {},
   "outputs": [
    {
     "name": "stdout",
     "output_type": "stream",
     "text": [
      "True\n"
     ]
    }
   ],
   "source": [
    "def validateParenthesis(s:str) -> bool:\n",
    "    n = -1\n",
    "    while len(s) != n:\n",
    "        n = len(s)\n",
    "        s = s.replace(\"{}\",\"\")\n",
    "        s = s.replace(\"[]\",\"\")\n",
    "        s = s.replace(\"()\",\"\")\n",
    "    if len(s) == 0:\n",
    "        return True\n",
    "    return False\n",
    "\n",
    "sample = \"[({}[]()(){})]\"\n",
    "print(validateParenthesis(s=sample))"
   ]
  },
  {
   "cell_type": "code",
   "execution_count": 3,
   "metadata": {},
   "outputs": [
    {
     "name": "stdout",
     "output_type": "stream",
     "text": [
      "Input:  a,b$c..lu)t#aka\n",
      "Result: a,k$a..tu)l#cba\n"
     ]
    }
   ],
   "source": [
    "def reverseAlphaOnly(s:str) -> str:\n",
    "    outP = list(s)\n",
    "    sList = [ss for ss in outP if ss.isalpha()]\n",
    "    for i, v in enumerate(s):\n",
    "        if v.isalpha():\n",
    "            outP[i] = sList.pop()\n",
    "    return \"\".join(outP)\n",
    "\n",
    "input = \"a,b$c..lu)t#aka\"\n",
    "print(\"Input:  \"+input)\n",
    "print(\"Result: \"+reverseAlphaOnly(input))"
   ]
  },
  {
   "cell_type": "code",
   "execution_count": 8,
   "metadata": {},
   "outputs": [
    {
     "name": "stdout",
     "output_type": "stream",
     "text": [
      "obxedtypl\n"
     ]
    }
   ],
   "source": [
    "def findCountUnique(st:str) -> str:\n",
    "    sLen = 0\n",
    "    outP = \"\"\n",
    "    sChars = set()\n",
    "    for i, _ in enumerate(st):\n",
    "        visited = {}\n",
    "        tempS = \"\"\n",
    "\n",
    "        for j in range(i,len(st)):\n",
    "            try:\n",
    "                if visited[st[j]] == True:\n",
    "                    break\n",
    "            except KeyError:\n",
    "                visited[st[j]] = True\n",
    "                tempS += st[j]\n",
    "        \n",
    "        visited[st[i]] = False\n",
    "        sChars.add(tempS)\n",
    "    \n",
    "    for w in sChars:\n",
    "        if len(w) > sLen:\n",
    "            outP = w\n",
    "            sLen = len(w)\n",
    "    \n",
    "    return outP\n",
    "\n",
    "#input = \"abcabcbb\"\n",
    "input = \"pwwlkewpobxedtypll\"\n",
    "\n",
    "print(findCountUnique(input))"
   ]
  },
  {
   "cell_type": "code",
   "execution_count": 4,
   "metadata": {},
   "outputs": [
    {
     "name": "stdout",
     "output_type": "stream",
     "text": [
      "[[7, 83], [11, 79], [17, 73], [19, 71], [23, 67], [29, 61], [31, 59], [37, 53], [43, 47]]\n"
     ]
    }
   ],
   "source": [
    "def findPairOfPrimes(n:int) -> list[int]:\n",
    "    primez = set()\n",
    "    res = []\n",
    "    for nm in range(2, n):\n",
    "        for num in range(2, n):\n",
    "            if nm != num:\n",
    "                primez.add(nm)\n",
    "                if nm % num == 0:\n",
    "                    primez.remove(nm)\n",
    "                    break\n",
    "    primes = list(primez)\n",
    "    #print(\"primes: \"+str(primez))\n",
    "    for i, prime in enumerate(primes):\n",
    "        for j in range(i+1, len(primes)):\n",
    "            if prime + primes[j] == n:\n",
    "                res.append([prime, primes[j]])\n",
    "    return res\n",
    "\n",
    "print(findPairOfPrimes(90))"
   ]
  },
  {
   "cell_type": "code",
   "execution_count": 1,
   "metadata": {},
   "outputs": [
    {
     "name": "stdout",
     "output_type": "stream",
     "text": [
      "[[7, 83], [11, 79], [17, 73], [19, 71], [23, 67], [29, 61], [31, 59], [37, 53], [43, 47]]\n"
     ]
    }
   ],
   "source": [
    "#after chatGPT optimized my code.\n",
    "def findPairOfPrimes(n: int) -> list[int]:\n",
    "    # Helper function to check if a number is prime\n",
    "    def is_prime(num):\n",
    "        if num < 2:\n",
    "            return False\n",
    "        for i in range(2, int(num ** 0.5) + 1):\n",
    "            if num % i == 0:\n",
    "                return False\n",
    "        return True\n",
    "\n",
    "    # Find all prime numbers less than n\n",
    "    primes = [i for i in range(2, n) if is_prime(i)]\n",
    "    #print(\"Primes:\", primes)\n",
    "    \n",
    "    # Find pairs of primes that sum up to n\n",
    "    res = []\n",
    "    for i, prime in enumerate(primes):\n",
    "        for j in range(i+1, len(primes)):\n",
    "            if prime + primes[j] == n:\n",
    "                res.append([prime, primes[j]])\n",
    "\n",
    "    return res\n",
    "\n",
    "# Example usage\n",
    "result = findPairOfPrimes(90)\n",
    "print(result)\n"
   ]
  },
  {
   "cell_type": "code",
   "execution_count": 1,
   "metadata": {},
   "outputs": [
    {
     "name": "stdout",
     "output_type": "stream",
     "text": [
      "[(7, 83), (11, 79), (17, 73), (19, 71), (23, 67), (29, 61), (31, 59), (37, 53), (43, 47)]\n"
     ]
    }
   ],
   "source": [
    "def is_prime(n):\n",
    "    if n < 2:\n",
    "        return False\n",
    "    for i in range(2, int(n ** 0.5) + 1):\n",
    "        if n % i == 0:\n",
    "            return False\n",
    "    return True\n",
    "\n",
    "def find_prime_pairs(sum_value):\n",
    "    primes = [i for i in range(2, sum_value) if is_prime(i)]\n",
    "    prime_pairs = [(p, sum_value - p) for p in primes if is_prime(sum_value - p) and p <= sum_value - p]\n",
    "    return prime_pairs\n",
    "\n",
    "# Example usage\n",
    "result = find_prime_pairs(90)\n",
    "print(result)"
   ]
  },
  {
   "cell_type": "code",
   "execution_count": 3,
   "metadata": {},
   "outputs": [
    {
     "name": "stdout",
     "output_type": "stream",
     "text": [
      "LIST: [2, 3, 4, 5, 6, 7, 8, 9, 10] NUMBER: 1\n",
      "LIST: [1, 3, 4, 5, 6, 7, 8, 9, 10] NUMBER: 2\n",
      "LIST: [1, 2, 4, 5, 6, 7, 8, 9, 10] NUMBER: 3\n",
      "LIST: [1, 2, 3, 5, 6, 7, 8, 9, 10] NUMBER: 4\n",
      "LIST: [1, 2, 3, 4, 6, 7, 8, 9, 10] NUMBER: 5\n",
      "LIST: [1, 2, 3, 4, 5, 7, 8, 9, 10] NUMBER: 6\n",
      "LIST: [1, 2, 3, 4, 5, 6, 8, 9, 10] NUMBER: 7\n",
      "LIST: [1, 2, 3, 4, 5, 6, 7, 9, 10] NUMBER: 8\n",
      "LIST: [1, 2, 3, 4, 5, 6, 7, 8, 10] NUMBER: 9\n",
      "LIST: [1, 2, 3, 4, 5, 6, 7, 8, 9] NUMBER: 10\n"
     ]
    }
   ],
   "source": [
    "L = [1,2,3,4,5,6,7,8,9,10]\n",
    "\n",
    "nums = []\n",
    "for n in L:\n",
    "    nums = [nm for nm in L if L.index(nm) != L.index(n)]\n",
    "    print(f\"LIST: {nums} NUMBER: {n}\")"
   ]
  },
  {
   "cell_type": "code",
   "execution_count": 22,
   "metadata": {},
   "outputs": [
    {
     "name": "stdout",
     "output_type": "stream",
     "text": [
      "2, 2, 2, 2, 2, 3, 3, 3, 3, 3, 3, 3, 3, 3, 3, 3, 4, 4, 4, 4, 4, 4, 4, 4, 4, 4, 4, 4, 4, 4, 4, 4, 5, 5, 5, 5, 5, 5, 5, 5, 5, 5, 5, 5, 5, 5, 5, 5, 5, 5, 5, 5, 5, 5, 5, 5, 5, 6, 6, 6, 6, 6, 6, 6, 6, 6, 6, 6, 6, 6, 6, 6, 6, 6, 6, 6, 6, 6, 6, 6, 6, 6, 6, 6, 6, 6, 6, 6, 7, 7, 7, 7, 7, 7, 7, 7, 7, 7, 7, 7, 7, 7, 7, 7, 7, 7, 7, 7, 7, 7, 7, 7, 7, 7, 7, 7, 7, 7, 7, 7, 7, 7, 7, 7, 7, 7, 7, 7, 7, 8, 8, 8, 8, 8, 8, 8, 8, 8, 8, 8, 8, 8, 8, 8, 8, 8, 8, 8, 8, 8, 8, 8, 8, 8, 8, 8, 8, 8, 8, 8, 8, 8, 8, 8, 8, 8, 8, 8, 8, 8, 8, 8, 8, 8, 8, 8, 8, 8, 8, 8, 9, 9, 9, 9, 9, 9, 9, 9, 9, 9, 9, 9, 9, 9, 9, 9, 9, 9, 9, 9, 9, 9, 9, 9, 9, 9, 9, 9, [2, 3, 5, 7, 11, 13, 17, 19, 23, 29, 31, 37, 41, 43, 47, 53, 59, 61, 67, 71, 73, 79, 83, 89]\n"
     ]
    }
   ],
   "source": [
    "result1 = 0b10\n",
    "result = bin(~result1)\n",
    "\n",
    "def is_prime(num):\n",
    "        if num < 2:\n",
    "            return False\n",
    "        for i in range(2, int(num ** 0.5) + 1):\n",
    "            print(int(num ** 0.5), end=\", \")\n",
    "            if num % i == 0:\n",
    "                return False\n",
    "        return True\n",
    "\n",
    "print([i for i in range(2, 90) if is_prime(i)])"
   ]
  }
 ],
 "metadata": {
  "kernelspec": {
   "display_name": "Python [conda env:base] *",
   "language": "python",
   "name": "conda-base-py"
  },
  "language_info": {
   "codemirror_mode": {
    "name": "ipython",
    "version": 3
   },
   "file_extension": ".py",
   "mimetype": "text/x-python",
   "name": "python",
   "nbconvert_exporter": "python",
   "pygments_lexer": "ipython3",
   "version": "3.12.7"
  }
 },
 "nbformat": 4,
 "nbformat_minor": 4
}
