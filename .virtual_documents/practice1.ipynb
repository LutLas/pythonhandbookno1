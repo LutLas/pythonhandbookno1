import numpy as np


# Use a compound data type for structured arrays
data = np.zeros(4, dtype={'names':('name', 'age', 'weight'),
'formats':('U10', 'i4', 'f8')})


print(data.dtype)


names = ['Alice', 'Bob', 'Cathy', 'Doug']
ages = [25, 45, 37, 19]
weights = [55.0, 85.5, 68.0, 61.5]

data['name'] = names
data['age'] = ages
data['weight'] = weights
print(data)


# Get names where age is under 30
data[data['age'] < 30]['name']


data_rec = data.view(np.recarray)
data_rec.age



