import re
re.findall(r"[A-Z]", "Python+C+NmJava")


x = ['www.a.com','www.b.com','www.c.com']
z = ['don@a.com', 'diz@a.com', 'can@b.com', 'jef@d.com']
result = {}

for i in x:
    result[i] = 0
    tempD = i.split('.')[1]+"."+i.split('.')[2]
    for d in z:
        if tempD in d:
            result[i] += 1 
print(result)



input = "...."
#output = ["--..",".--.","..--"]
result = []

for i, c in enumerate(input):
    sList = list(input)
    nX = i + 1
    try:
        sList[i], sList[nX] = "-", "-"
        #print(sList)
        temStr = "".join(sList)
        result.append(temStr)
    except IndexError as e:
        e
print(result)


def solution(digits: str, num: str) -> int:
    print("Input: \"" + digits +"\" Search Elements: \""+num+"\"",end="\n\n")
    nums = []
    currentIndex = 0
    for s in num:
        sIndex = digits.index(s)
        print("Num At Index: "+s+" Is: "+str(sIndex)+", Current Index: "+str(currentIndex)+", Difference: "+str(sIndex-currentIndex), end=" \n")
        print("Absolute Value Is: "+str(abs(currentIndex-sIndex)), end=" \n\n")
        nums.append(abs(currentIndex-sIndex))
        currentIndex = sIndex
    print(nums)
    return sum(nums)

print(solution(digits="0123456789", num="210"),end="\n\n\n")#Expected: 4
print(solution(digits="8459761203", num="5439"),end="\n\n\n")#Expected: 17 


from typing import List
class Solution:
    def findMedianSortedArrays(self, nums1: List[int], nums2: List[int]) -> float:
        nums = nums1 + nums2
        nums.sort()
        numsMid = len(nums) // 2
        #print(complex(numsMid))
        if len(nums) % 2 == 0:
            return (nums[numsMid-1] + nums[numsMid]) / 2
        else:
            return nums[numsMid]

Solution.findMedianSortedArrays(self=Solution, nums1=[2,3,6], nums2=[4,8,9])


def solution(a:str, b:str) -> int:
    inP = b
    outP = ""
    inPLen = -1
    while len(inP) != inPLen:
        inPLen = len(inP)
        if inP in a:
            outP += b
            inP += b
    print(outP)
    return outP.count(b)

#a="popokpopopop", b="po" output:3
print(solution(a="popokpopopop", b="po"))


def mostAlphabet(sample:str) -> str:
    cCount = 0
    outP = ""
    for s in sample:
       if not s.isdigit():
            tempCCount = sample.count(s)
            if tempCCount > cCount:
                cCount = tempCCount
                outP = s
    return outP

#output:'d'
print(mostAlphabet(sample="abcddezzAzfda1111333333333333"))


def reverseAndSortString(sample:str) -> str:
    inP = sample.split(" ")
    inPSort = []
    outP = ""
    for s in inP:
        sLast = len(s)-1
        inPSort.append(s[sLast]+s[:sLast])
    inPSort.sort()
    for s in inPSort:
        outP += s[1:] + " "
    outP = outP.strip()
    #print(inPSort)
    return outP

#output:"green red gold black blue"
print(reverseAndSortString(sample="red2 blue5 black4 green1 gold3"))


def decodeMsg(k:list[int], x:int) -> list[int]:
    indexer = x-1
    fullInp = k[indexer:] + k[:indexer] + k[indexer:]
    outP = []
    print(fullInp)
    for i, _ in enumerate(k):
        outP.append(fullInp[i] + fullInp[i+1])
    return outP
print(decodeMsg(k=[1,2,3,4], x=2))


class Solution:
    def findSubstring(self, word:str, words:list[str]) -> list[int]:
        outP = []
        for w in self.permute(self, words):
            for i in range(len(word)-len(w)):
                if word[i:(i+len(w))] == w:
                    if i not in outP:
                        outP.append(i)
        outP.sort()
        return outP

    def permute(self, words:list[str]) -> list[str]:
        outP = []
        if len(words) <= 0:
            return outP
        elif len(words) == 1:
            outP.append(words[0])
        else:
            for word in words:
                trailings = [wd for wd in words if words.index(wd) != words.index(word)]
                for trail in self.permute(self, trailings):
                    tempWord = word + trail
                    if tempWord not in outP:
                        outP.append(tempWord)
        #outP.Sort()
        return outP

sample = "barfoofoobarthefoobarman"
words = ["foo", "bar"]
print(Solution.findSubstring(self=Solution, word=sample, words=words))


class Solution:
    def nPermute(self, n:int, k:int) -> str:
        inP = ""
        for i in range(1, (n+1)):
            inP += str(i)
        #print(self.findPermute(self, inP))
        return self.findPermute(self, inP)[k-1]
    
    def findPermute(self, s:str) -> list[str]:
        outP = []
        if len(s) <= 1:
            outP.append(s)
        else:
            for w in s:
                trails = [wd for wd in s if s.index(wd) != s.index(w)]
                strTrails = "".join(trails)
                for tr in self.findPermute(self, strTrails):
                    tempW = w + tr
                    if tempW not in outP:
                        outP.append(tempW)
        return outP

print(Solution.nPermute(self=Solution, n=5, k=100))


def firstMissingPositive(nums:list[int]) -> int:
    n = 1
    nums.sort()
    for i in nums:
        if i == n:
            n += 1
    return n

numbers = [ 7, 3, 2, 0, 1, 10, 5, 6, 9, 8, 11, 20, 12 ]
print(firstMissingPositive(nums=numbers))


def calculateScore(points:str) -> int:
    inP = points.split(" ")
    outP = []
    for n in inP:
        if n.isdigit():
            outP.append(int(n))
        else:
            outPLen = len(outP)
            if n == "+":
                outP.append(outP[outPLen-1] + outPLen[outPLen-2])
            elif n.lower() == "d":
                outP.append(outP[outPLen-1]*2)
            elif n.lower() == "c":
                outP.remove(outP[outPLen-1])
    return int(sum(outP))

score = "0 D 1 D"
print(calculateScore(points=score))


def validateParenthesis(s:str) -> bool:
    n = -1
    while len(s) != n:
        n = len(s)
        s = s.replace("{}","")
        s = s.replace("[]","")
        s = s.replace("()","")
    if len(s) == 0:
        return True
    return False

sample = "[({}[]()(){})]"
print(validateParenthesis(s=sample))


def reverseAlphaOnly(s:str) -> str:
    outP = list(s)
    sList = [ss for ss in outP if ss.isalpha()]
    for i, v in enumerate(s):
        if v.isalpha():
            outP[i] = sList.pop()
    return "".join(outP)

input = "a,b$c..lu)t#aka"
print("Input:  "+input)
print("Result: "+reverseAlphaOnly(input))


def findCountUnique(st:str) -> str:
    sLen = 0
    outP = ""
    sChars = set()
    for i, _ in enumerate(st):
        visited = {}
        tempS = ""

        for j in range(i,len(st)):
            try:
                if visited[st[j]] == True:
                    break
            except KeyError:
                visited[st[j]] = True
                tempS += st[j]
        
        visited[st[i]] = False
        sChars.add(tempS)
    
    for w in sChars:
        if len(w) > sLen:
            outP = w
            sLen = len(w)
    
    return outP

#input = "abcabcbb"
input = "pwwlkewpobxedtypll"

print(findCountUnique(input))


def findPairOfPrimes(n:int) -> list[int]:
    primez = set()
    res = []
    for nm in range(2, n):
        for num in range(2, n):
            if nm != num:
                primez.add(nm)
                if nm % num == 0:
                    primez.remove(nm)
                    break
    primes = list(primez)
    #print("primes: "+str(primez))
    for i, prime in enumerate(primes):
        for j in range(i+1, len(primes)):
            if prime + primes[j] == n:
                res.append([prime, primes[j]])
    return res

print(findPairOfPrimes(90))


#after chatGPT optimized my code.
def findPairOfPrimes(n: int) -> list[int]:
    # Helper function to check if a number is prime
    def is_prime(num):
        if num < 2:
            return False
        for i in range(2, int(num ** 0.5) + 1):
            if num % i == 0:
                return False
        return True

    # Find all prime numbers less than n
    primes = [i for i in range(2, n) if is_prime(i)]
    #print("Primes:", primes)
    
    # Find pairs of primes that sum up to n
    res = []
    for i, prime in enumerate(primes):
        for j in range(i+1, len(primes)):
            if prime + primes[j] == n:
                res.append([prime, primes[j]])

    return res

# Example usage
result = findPairOfPrimes(90)
print(result)



def is_prime(n):
    if n < 2:
        return False
    for i in range(2, int(n ** 0.5) + 1):
        if n % i == 0:
            return False
    return True

def find_prime_pairs(sum_value):
    primes = [i for i in range(2, sum_value) if is_prime(i)]
    prime_pairs = [(p, sum_value - p) for p in primes if is_prime(sum_value - p) and p <= sum_value - p]
    return prime_pairs

# Example usage
result = find_prime_pairs(90)
print(result)


L = [1,2,3,4,5,6,7,8,9,10]

nums = []
for n in L:
    nums = [nm for nm in L if L.index(nm) != L.index(n)]
    print(f"LIST: {nums} NUMBER: {n}")


result1 = 0b10
result = bin(~result1)

def is_prime(num):
        if num < 2:
            return False
        for i in range(2, int(num ** 0.5) + 1):
            print(int(num ** 0.5), end=", ")
            if num % i == 0:
                return False
        return True

print([i for i in range(2, 90) if is_prime(i)])
