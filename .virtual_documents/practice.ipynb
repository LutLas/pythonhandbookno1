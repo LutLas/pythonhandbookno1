import numpy as np
grid = np.arange(1,10).reshape(3,3)
print(grid)


x = np.array([1,2,3])
x.reshape((1,3))


x.reshape((3,1))


x[np.newaxis, :]


x[:, np.newaxis]


z = np.concatenate([x, x[::-1]])
print(z)


np.vstack([x, grid])


np.hstack([grid,x[:,np.newaxis]])


xsplit = [1,2,3,99,99,3,2,1]
x1,x2,x3 = np.split(xsplit, [3,5])
print(x1,x2,x3)


sample = np.arange(1,13)
np.multiply.outer(sample, sample)


rng = np.random.default_rng()
sample1 = rng.random(100000)
%timeit np.min(sample1)
%timeit sample1.min()


sample2 = rng.integers(0,10,(4,4))
print(sample2, end='\n\n')
sample2 = np.sort(sample2, axis=0)
print(sample2)


import pandas as pd
data = pd.read_csv('president_heights.csv')
#heights = np.array(data['height(cm)'])
for th in data:
    if th == 'height(cm)':
        heights = np.array(data[th])
        print(th,':',heights)
    #print(th,':',np.array(data[th]), end='\n\n')
print(np.max(heights))        
print(len(heights))


%matplotlib inline
import matplotlib.pyplot as plt
#plt.style.use('seaborn-whitegrid')
plt.hist(heights)
plt.title('Height Distribution of US Presidents')
plt.xlabel('height (cm)')
plt.ylabel('number')


# x and y have 50 steps from 0 to 5
x = np.linspace(0, 5, 50)
y = np.linspace(0, 5, 50)[:, np.newaxis]

z = np.sin(x) ** 10 + np.cos(10 + y * x) * np.cos(x)


plt.imshow(z, origin = 'lower', extent = [0, 5, 0, 5])
plt.colorbar()


print(np.count_nonzero(np.equal(sample2,3), axis=0))


mean = [0,0]
cov = [
    [1,2],
    [2,5]
]
x = rng.multivariate_normal(mean, cov, 100)
x.shape

indices = np.random.choice(x.shape[0], 20, replace=False)
indices
selection = x[indices]
selection.shape


#plt.style.use('seaborn-whitegrid')
plt.scatter(x[:,0], x[:,1], alpha=0.3)
plt.scatter(selection[:,0], selection[:,1], facecolor='none', edgecolor='red', s=200)


rng = np.random.default_rng(seed=1701)
x = rng.normal(size=100)

#compute a histogram by hand
bins = np.linspace(-5,5,20)
counts = np.zeros_like(bins)

#find the appropriate bin for each x
i = np.searchsorted(bins, x)

#add 1 to each of these bins
np.add.at(counts, i, 1)

#plot the results
plt.plot(bins, counts, drawstyle = 'steps')


rng = np.random.default_rng(seed=42)
sample3 = rng.integers(11, size=10)
print(sample3)
sample3 = np.partition(sample3, 5)
print(sample3)
sample3 = np.sort(sample3)
print(sample3)
i_sort = np.argsort(sample3)
print(i_sort)


x = rng.random((10,2))
plt.scatter(x[:,0], x[:,1], s=100)


dist_sq = np.sum((x[:,np.newaxis] - x[np.newaxis,:]) ** 2, axis = -1)
## for each pair of points, compute differences in their coordinates
differences = x[:, np.newaxis] - x[np.newaxis, :]
differences.shape


# square the coordinate differences
sq_differences = differences ** 2
sq_differences.shape


# sum the coordinate differences to get the squared distance
dist_sq = sq_differences.sum(-1)
dist_sq.shape


dist_sq.diagonal()


nearest = np.argsort(dist_sq, axis=1)
print(nearest)


plt.scatter(X[:, 0], X[:, 1], s=100)
# draw lines from each point to its two nearest neighbors
K = 2
for i in range(X.shape[0]):
    for j in nearest_partition[i, :K+1]:
        # plot a line from X[i] to X[j]
        # use some zip magic to make it happen:
        plt.plot(*zip(X[j], X[i]), color='black')



